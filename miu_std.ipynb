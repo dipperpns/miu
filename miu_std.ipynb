{
 "cells": [
  {
   "cell_type": "code",
   "execution_count": 3,
   "metadata": {},
   "outputs": [
    {
     "data": {
      "text/plain": [
       "str"
      ]
     },
     "execution_count": 3,
     "metadata": {},
     "output_type": "execute_result"
    }
   ],
   "source": [
    "number = input()\n",
    "#> ? 6\n",
    "type(number)"
   ]
  },
  {
   "cell_type": "code",
   "execution_count": 8,
   "metadata": {},
   "outputs": [
    {
     "name": "stdout",
     "output_type": "stream",
     "text": [
      "AAAogeee\n"
     ]
    },
    {
     "data": {
      "text/plain": [
       "'AAAogeee'"
      ]
     },
     "execution_count": 8,
     "metadata": {},
     "output_type": "execute_result"
    }
   ],
   "source": [
    "\n",
    "dictionary = {\n",
    "    'REG': 'regg',\n",
    "    'log': 'AAAogeee',\n",
    "    'cart': 'SXNAUIWC'\n",
    "}\n",
    "\n",
    "# Accessing the value associated with the key 'log'\n",
    "value = dictionary['log']\n",
    "print(value)\n",
    "\n",
    "dictionary['log']"
   ]
  },
  {
   "cell_type": "code",
   "execution_count": 10,
   "metadata": {},
   "outputs": [
    {
     "name": "stdout",
     "output_type": "stream",
     "text": [
      "400\n"
     ]
    },
    {
     "ename": "TypeError",
     "evalue": "unsupported operand type(s) for -: 'NoneType' and 'int'",
     "output_type": "error",
     "traceback": [
      "\u001b[0;31m---------------------------------------------------------------------------\u001b[0m",
      "\u001b[0;31mTypeError\u001b[0m                                 Traceback (most recent call last)",
      "Cell \u001b[0;32mIn[10], line 4\u001b[0m\n\u001b[1;32m      1\u001b[0m \u001b[39mdef\u001b[39;00m \u001b[39mcalc\u001b[39m(wage, hours):\n\u001b[1;32m      2\u001b[0m     \u001b[39mprint\u001b[39m(wage \u001b[39m*\u001b[39m hours)\n\u001b[0;32m----> 4\u001b[0m calc(\u001b[39m10\u001b[39;49m, \u001b[39m40\u001b[39;49m)\u001b[39m-\u001b[39;49m\u001b[39m200\u001b[39;49m\n",
      "\u001b[0;31mTypeError\u001b[0m: unsupported operand type(s) for -: 'NoneType' and 'int'"
     ]
    }
   ],
   "source": [
    "def calc(wage, hours):\n",
    "    print(wage * hours)\n",
    "\n",
    "calc(10, 40)-200"
   ]
  },
  {
   "cell_type": "code",
   "execution_count": 12,
   "metadata": {},
   "outputs": [
    {
     "name": "stdout",
     "output_type": "stream",
     "text": [
      "['d', 'a', 't', 'a']\n"
     ]
    }
   ],
   "source": [
    "students = [\"Denise\", \"Arsen\", \"Tony\", \"Audrey\"]\n",
    "low = lambda x: x[0].lower()\n",
    "\n",
    "print(list(map(low, students)))"
   ]
  },
  {
   "cell_type": "code",
   "execution_count": 14,
   "metadata": {},
   "outputs": [
    {
     "data": {
      "text/plain": [
       "['FR_Denise', 'FR_Jean', 'US_John', 'US_Sarah']"
      ]
     },
     "execution_count": 14,
     "metadata": {},
     "output_type": "execute_result"
    }
   ],
   "source": [
    "names = {\"Denise\": \"French\", \"Jean\":\"French\",\n",
    "         \"John\": \"American\", \"Sarah\": \"American\"}\n",
    "new_names = [\"FR_\" + name if names[name]==\"French\" else \"US_\" + name for name in names.keys()]\n",
    "\n",
    "new_names"
   ]
  },
  {
   "cell_type": "code",
   "execution_count": 16,
   "metadata": {},
   "outputs": [],
   "source": [
    "def sqr_root(x):\n",
    "    \"\"\"Calculate the square root of the input x\"\"\"\n",
    "    sqr_r = x ** (1/2)\n",
    "\n",
    "sqr_root(16)"
   ]
  },
  {
   "cell_type": "code",
   "execution_count": 17,
   "metadata": {},
   "outputs": [
    {
     "data": {
      "text/plain": [
       "[('Denise', 25, 'Paris'),\n",
       " ('Arsen', 30, 'Lyon'),\n",
       " ('Tony', 27, 'Paris'),\n",
       " ('Audrey', 20, 'Marseille')]"
      ]
     },
     "execution_count": 17,
     "metadata": {},
     "output_type": "execute_result"
    }
   ],
   "source": [
    "names = [\"Denise\", \"Arsen\", \"Tony\", \"Audrey\"]\n",
    "ages = [25, 30, 27, 20]\n",
    "cities = [\"Paris\", \"Lyon\", \"Paris\", \"Marseille\"]\n",
    "\n",
    "list(zip(names, ages, cities))"
   ]
  },
  {
   "cell_type": "code",
   "execution_count": 20,
   "metadata": {},
   "outputs": [
    {
     "data": {
      "text/plain": [
       "0"
      ]
     },
     "execution_count": 20,
     "metadata": {},
     "output_type": "execute_result"
    }
   ],
   "source": [
    "import numpy as np\n",
    "from functools import reduce\n",
    "\n",
    "num_list = np.arange(10)\n",
    "\n",
    "filter_list = list(filter(lambda x: x % 3 == 0, num_list))\n",
    "\n",
    "final_list = reduce(lambda x, y: x * y, filter_list)\n",
    "\n",
    "final_list"
   ]
  },
  {
   "cell_type": "code",
   "execution_count": 28,
   "metadata": {},
   "outputs": [
    {
     "name": "stdout",
     "output_type": "stream",
     "text": [
      "[1 2 3 4 5 6 7 8 9]\n",
      "[1 2 3 4 5 6 7 8 9]\n",
      "[4 5 6]\n"
     ]
    }
   ],
   "source": [
    "import numpy as np\n",
    "serie = np.arange(1, 10)\n",
    "print(serie)\n",
    "x = [3, 4, 5]\n",
    "serie[x]\n",
    "\n",
    "print(serie)\n",
    "print(serie[x])"
   ]
  },
  {
   "cell_type": "code",
   "execution_count": null,
   "metadata": {},
   "outputs": [],
   "source": [
    "import seaborn as sns\n",
    "\n",
    "titanic = sns.load_dataset('titanic')\n",
    "sns.countplot(x='class', data=titanic)\n",
    "\n",
    "plt.show()"
   ]
  }
 ],
 "metadata": {
  "kernelspec": {
   "display_name": "Python 3",
   "language": "python",
   "name": "python3"
  },
  "language_info": {
   "codemirror_mode": {
    "name": "ipython",
    "version": 3
   },
   "file_extension": ".py",
   "mimetype": "text/x-python",
   "name": "python",
   "nbconvert_exporter": "python",
   "pygments_lexer": "ipython3",
   "version": "3.10.8"
  },
  "orig_nbformat": 4
 },
 "nbformat": 4,
 "nbformat_minor": 2
}
